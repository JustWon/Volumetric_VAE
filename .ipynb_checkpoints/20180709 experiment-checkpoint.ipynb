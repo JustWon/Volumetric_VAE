{
 "cells": [
  {
   "cell_type": "markdown",
   "metadata": {},
   "source": [
    "# Volumetric AE with the class weight"
   ]
  },
  {
   "cell_type": "code",
   "execution_count": 1,
   "metadata": {},
   "outputs": [],
   "source": [
    "from utils import *\n",
    "\n",
    "import os\n",
    "import datetime\n",
    "\n",
    "%matplotlib inline\n",
    "import numpy as np\n",
    "import matplotlib.pyplot as plt\n",
    "from mpl_toolkits.mplot3d import Axes3D\n",
    "\n",
    "import torch\n",
    "from torch.autograd import Variable\n",
    "import torch.nn.functional as F\n",
    "import torch.optim as optim\n",
    "\n",
    "import sys\n",
    "sys.path.append(\"/home/dongwonshin/Desktop/Open3D/build/lib\")\n",
    "from py3d import *\n",
    "\n",
    "from VolumetricVAE import *"
   ]
  },
  {
   "cell_type": "markdown",
   "metadata": {},
   "source": [
    "# Volumetric AE Model training"
   ]
  },
  {
   "cell_type": "code",
   "execution_count": 2,
   "metadata": {},
   "outputs": [],
   "source": [
    "vol_ae = VolumetricAE(_kernel_size=3, _stride=1)\n",
    "vol_ae = torch.nn.DataParallel(vol_ae, device_ids = range(torch.cuda.device_count()))\n",
    "vol_ae.cuda()\n",
    "\n",
    "optimizer = optim.Adam(vol_ae.parameters(), lr=0.0001)\n",
    "\n",
    "class_weight = torch.Tensor(np.array(\n",
    "    [0.025192871093750013,\n",
    "     0.99568359375,\n",
    "     0.9951199340820313,\n",
    "     0.9965753173828125,\n",
    "     0.998511962890625,\n",
    "     0.9998382568359375,\n",
    "     0.9990286254882812,\n",
    "     0.9993521118164063,\n",
    "     0.9994937133789062,\n",
    "     0.9998776245117188,\n",
    "     0.9997113037109375,\n",
    "     1.0,\n",
    "     0.9998117065429688,\n",
    "     0.9989590454101562,\n",
    "     0.9985369873046875,\n",
    "     0.9993685913085938,\n",
    "     1.0,\n",
    "     1.0,\n",
    "     0.9990896606445312,\n",
    "     0.999835205078125,\n",
    "     0.9960134887695312]\n",
    ")).cuda()\n",
    "\n",
    "recon_loss_func = torch.nn.CrossEntropyLoss(weight=class_weight)"
   ]
  },
  {
   "cell_type": "code",
   "execution_count": 5,
   "metadata": {},
   "outputs": [
    {
     "name": "stderr",
     "output_type": "stream",
     "text": [
      "/home/dongwonshin/anaconda3/lib/python3.6/site-packages/torch/nn/functional.py:1749: UserWarning: Default upsampling behavior when mode=trilinear is changed to align_corners=False since 0.4.0. Please specify align_corners=True if the old behavior is desired. See the documentation of nn.Upsample for details.\n",
      "  \"See the documentation of nn.Upsample for details.\".format(mode))\n"
     ]
    },
    {
     "ename": "NameError",
     "evalue": "name 'kl_loss' is not defined",
     "output_type": "error",
     "traceback": [
      "\u001b[0;31m---------------------------------------------------------------------------\u001b[0m",
      "\u001b[0;31mNameError\u001b[0m                                 Traceback (most recent call last)",
      "\u001b[0;32m<ipython-input-5-94813e3284a4>\u001b[0m in \u001b[0;36m<module>\u001b[0;34m()\u001b[0m\n\u001b[1;32m     26\u001b[0m         \u001b[0mrecon_loss\u001b[0m \u001b[0;34m=\u001b[0m \u001b[0mrecon_loss_func\u001b[0m\u001b[0;34m(\u001b[0m\u001b[0moutput_volume\u001b[0m\u001b[0;34m,\u001b[0m \u001b[0mtarget_volume\u001b[0m\u001b[0;34m)\u001b[0m\u001b[0;34m\u001b[0m\u001b[0m\n\u001b[1;32m     27\u001b[0m \u001b[0;34m\u001b[0m\u001b[0m\n\u001b[0;32m---> 28\u001b[0;31m         \u001b[0mloss\u001b[0m \u001b[0;34m=\u001b[0m \u001b[0mrecon_loss\u001b[0m \u001b[0;34m+\u001b[0m \u001b[0mkl_loss\u001b[0m\u001b[0;34m\u001b[0m\u001b[0m\n\u001b[0m\u001b[1;32m     29\u001b[0m \u001b[0;34m\u001b[0m\u001b[0m\n\u001b[1;32m     30\u001b[0m         \u001b[0mloss\u001b[0m\u001b[0;34m.\u001b[0m\u001b[0mbackward\u001b[0m\u001b[0;34m(\u001b[0m\u001b[0;34m)\u001b[0m\u001b[0;34m\u001b[0m\u001b[0m\n",
      "\u001b[0;31mNameError\u001b[0m: name 'kl_loss' is not defined"
     ]
    }
   ],
   "source": [
    "epoches = 100\n",
    "data_range = 100\n",
    "\n",
    "for epoch in range(epoches):\n",
    "    for idx in range(data_range):\n",
    "        comp_pcd = read_point_cloud(\"/home/dongwonshin/Desktop/subvolume_dataset_making/mesh_results2/%06d_complete.ply\" % idx)\n",
    "        voxel_volume, color_volume = pcd2voxel(comp_pcd)\n",
    "        \n",
    "        input_volume = colorvol2classidvol(color_volume)\n",
    "        input_volume = np.expand_dims(input_volume, axis=0) # fake batch axis\n",
    "        input_volume = torch.from_numpy(input_volume).float() \n",
    "        input_volume = Variable(input_volume).cuda()\n",
    "\n",
    "        optimizer.zero_grad()\n",
    "        \n",
    "        output_volume = vol_ae.forward(input_volume)\n",
    "        \n",
    "        target_volume = colorvol2classidvol(color_volume, False)\n",
    "        target_volume = np.expand_dims(target_volume, axis=0) # fake batch axis\n",
    "        target_volume = torch.from_numpy(target_volume).long() \n",
    "        target_volume = Variable(target_volume).cuda()\n",
    "        \n",
    "#         mean_sq = z_mean * z_mean\n",
    "#         stddev_sq = z_sigma * z_sigma\n",
    "#         kl_loss = 0.5 * torch.sum(mean_sq + stddev_sq - torch.log(stddev_sq) - 1)\n",
    "        recon_loss = recon_loss_func(output_volume, target_volume)\n",
    "        \n",
    "        loss = recon_loss\n",
    "        \n",
    "        loss.backward()\n",
    "        optimizer.step()\n",
    "\n",
    "        l = loss.data[0]\n",
    "    \n",
    "    print(l)\n",
    "\n",
    "    # save the intermediate result\n",
    "    argmaxed = torch.argmax(output_volume,1)\n",
    "    output_color_volume = classidvol2colorvol(argmaxed.cpu().numpy())\n",
    "    viz_vvae_output(output_color_volume,'./v_ae_with_weight',show=False,save=True)\n",
    "    "
   ]
  },
  {
   "cell_type": "code",
   "execution_count": null,
   "metadata": {},
   "outputs": [],
   "source": []
  }
 ],
 "metadata": {
  "kernelspec": {
   "display_name": "Python [conda root]",
   "language": "python",
   "name": "conda-root-py"
  },
  "language_info": {
   "codemirror_mode": {
    "name": "ipython",
    "version": 3
   },
   "file_extension": ".py",
   "mimetype": "text/x-python",
   "name": "python",
   "nbconvert_exporter": "python",
   "pygments_lexer": "ipython3",
   "version": "3.6.4"
  }
 },
 "nbformat": 4,
 "nbformat_minor": 2
}
