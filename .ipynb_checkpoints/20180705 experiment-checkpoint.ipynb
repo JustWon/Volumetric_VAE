{
 "cells": [
  {
   "cell_type": "code",
   "execution_count": 1,
   "metadata": {},
   "outputs": [],
   "source": [
    "import numpy as np\n",
    "\n",
    "import torch\n",
    "from torch.autograd import Variable\n",
    "import torch.nn.functional as F\n",
    "import torch.optim as optim\n",
    "\n",
    "import sys\n",
    "sys.path.append(\"/home/dongwonshin/Desktop/Open3D/build/lib\")\n",
    "from py3d import *\n",
    "\n",
    "from VolumetricVAE import *"
   ]
  },
  {
   "cell_type": "markdown",
   "metadata": {},
   "source": [
    "# Dataloader"
   ]
  },
  {
   "cell_type": "code",
   "execution_count": 2,
   "metadata": {},
   "outputs": [],
   "source": [
    "nyudv2_color_codes = { \n",
    "    'floor': [162, 227, 148], \n",
    "    'wall': [183, 205, 235], \n",
    "    'cabinet': [35, 131, 188], \n",
    "    'bed': [255, 196, 131], \n",
    "    'chair': [195, 197, 37], \n",
    "    'sofa': [151, 97, 84], \n",
    "    'table': [255, 162, 161], \n",
    "    'door': [218, 45, 45], \n",
    "    'window': [203, 185, 218], \n",
    "    'bookshelf': [159, 114, 196], \n",
    "    'picture': [203, 166, 158], \n",
    "    'counter': [24, 197, 214], \n",
    "    'desk': [248, 191, 216], \n",
    "    'curtain': [222, 224, 152], \n",
    "    'refrigerator': [254, 139, 10], \n",
    "    'bathtub':[231, 130, 201], \n",
    "    'shower_curtain': [168, 223, 232], \n",
    "    'toilet': [48, 170, 51], \n",
    "    'sink':[123, 139, 155], \n",
    "    'otherfuniture':[93, 93, 173] \n",
    "}\n",
    "    \n",
    "def rgb2nyudv2(rgb):\n",
    "    \n",
    "    color_dist = []\n",
    "    for class_name, code in nyudv2_color_codes.items():\n",
    "        color_dist.append(np.linalg.norm(np.asarray(code)-rgb))\n",
    "    \n",
    "    class_id = np.argmin(color_dist)\n",
    "    class_name = list(nyudv2_color_codes.keys())[class_id]\n",
    "    \n",
    "    return class_id, class_name"
   ]
  },
  {
   "cell_type": "code",
   "execution_count": 3,
   "metadata": {},
   "outputs": [],
   "source": [
    "def pcd2voxel(pcd, filter_rad=0.1, dim_size=32):\n",
    "    [xc, yc, zc] = np.mean(pcd.points,0)\n",
    "    [xs, ys, zs] = [xc, yc, zc] + np.ones(3)*filter_rad*dim_size/2\n",
    "    [xe, ye, ze] = [xc, yc, zc] - np.ones(3)*filter_rad*dim_size/2\n",
    "\n",
    "    voxel_volume = np.zeros((dim_size,dim_size,dim_size))\n",
    "    color_volume = np.zeros((dim_size,dim_size,dim_size,3))\n",
    "    for point, color in zip(pcd.points, pcd.colors):\n",
    "        xi,yi,zi = (np.around(([xs, ys, zs] - point)/filter_rad)).astype(int)\n",
    "        voxel_volume[xi, yi, zi] = 1\n",
    "        color_volume[xi, yi, zi]= color\n",
    "    \n",
    "    return voxel_volume, color_volume\n",
    "\n",
    "def colorvol2classidvol(color_volume):\n",
    "    classid_volume = np.zeros([32,32,32])\n",
    "    classid_volume = classid_volume.flatten()\n",
    "    color_volume = color_volume.reshape([-1,3])\n",
    "\n",
    "    for idx, color_voxel in enumerate(color_volume):\n",
    "        if(not np.array_equal(color_voxel, [0,0,0])):\n",
    "            class_id, calss_name = rgb2nyudv2(color_voxel*255)\n",
    "            classid_volume[idx] = class_id\n",
    "    #         print(class_id,calss_name)\n",
    "\n",
    "    classid_volume = classid_volume.reshape([32,32,32])\n",
    "    \n",
    "    return classid_volume\n",
    "\n",
    "def classidvol2colorvol(classid_volume):\n",
    "    color_volume = np.zeros([32,32,32,3])\n",
    "    color_volume = color_volume.reshape([-1,3])\n",
    "    classid_volume = classid_volume.flatten()\n",
    "    \n",
    "    for idx, classid_voxel in enumerate(classid_volume):\n",
    "        if (classid_voxel != 0):\n",
    "            color_volume[idx] = list(nyudv2_color_codes.values())[int(classid_voxel)]\n",
    "    \n",
    "    color_volume = color_volume.reshape([32,32,32,3])\n",
    "    \n",
    "    return color_volume"
   ]
  },
  {
   "cell_type": "markdown",
   "metadata": {},
   "source": [
    "# Model training"
   ]
  },
  {
   "cell_type": "code",
   "execution_count": 4,
   "metadata": {},
   "outputs": [],
   "source": [
    "vol_vae = VolumetricVAE(_kernel_size=3, _stride=1)\n",
    "# vol_vae = torch.nn.DataParallel(vol_vae, device_ids = range(torch.cuda.device_count()))\n",
    "# vol_vae.cuda()"
   ]
  },
  {
   "cell_type": "code",
   "execution_count": 5,
   "metadata": {},
   "outputs": [
    {
     "name": "stderr",
     "output_type": "stream",
     "text": [
      "/home/dongwonshin/Desktop/Volumetric VAE/VolumetricVAE.py:48: UserWarning: Implicit dimension choice for softmax has been deprecated. Change the call to include dim=X as an argument.\n",
      "  x = self.softmax(x)\n",
      "/home/dongwonshin/anaconda3/lib/python3.6/site-packages/ipykernel/__main__.py:32: UserWarning: invalid index of a 0-dim tensor. This will be an error in PyTorch 0.5. Use tensor.item() to convert a 0-dim tensor to a Python number\n"
     ]
    },
    {
     "name": "stdout",
     "output_type": "stream",
     "text": [
      "tensor(95.5668)\n",
      "tensor(93.2665)\n",
      "tensor(88.7918)\n",
      "tensor(85.6820)\n",
      "tensor(80.2840)\n",
      "tensor(70.9799)\n",
      "tensor(72.6623)\n",
      "tensor(54.9926)\n",
      "tensor(67.6574)\n"
     ]
    },
    {
     "ename": "KeyboardInterrupt",
     "evalue": "",
     "output_type": "error",
     "traceback": [
      "\u001b[0;31m---------------------------------------------------------------------------\u001b[0m",
      "\u001b[0;31mKeyboardInterrupt\u001b[0m                         Traceback (most recent call last)",
      "\u001b[0;32m<ipython-input-5-c751609298ec>\u001b[0m in \u001b[0;36m<module>\u001b[0;34m()\u001b[0m\n\u001b[1;32m      9\u001b[0m         \u001b[0mincomp_pcd\u001b[0m \u001b[0;34m=\u001b[0m \u001b[0mread_point_cloud\u001b[0m\u001b[0;34m(\u001b[0m\u001b[0;34m\"/home/dongwonshin/Desktop/subvolume_dataset_making/mesh_results2/%06d_incomplete.ply\"\u001b[0m \u001b[0;34m%\u001b[0m \u001b[0midx\u001b[0m\u001b[0;34m)\u001b[0m\u001b[0;34m\u001b[0m\u001b[0m\n\u001b[1;32m     10\u001b[0m         \u001b[0mvoxel_volume\u001b[0m\u001b[0;34m,\u001b[0m \u001b[0mcolor_volume\u001b[0m \u001b[0;34m=\u001b[0m \u001b[0mpcd2voxel\u001b[0m\u001b[0;34m(\u001b[0m\u001b[0mincomp_pcd\u001b[0m\u001b[0;34m)\u001b[0m\u001b[0;34m\u001b[0m\u001b[0m\n\u001b[0;32m---> 11\u001b[0;31m         \u001b[0mclassid_volume\u001b[0m \u001b[0;34m=\u001b[0m \u001b[0mcolorvol2classidvol\u001b[0m\u001b[0;34m(\u001b[0m\u001b[0mcolor_volume\u001b[0m\u001b[0;34m)\u001b[0m\u001b[0;34m\u001b[0m\u001b[0m\n\u001b[0m\u001b[1;32m     12\u001b[0m         \u001b[0mclassid_volume\u001b[0m \u001b[0;34m=\u001b[0m \u001b[0mnp\u001b[0m\u001b[0;34m.\u001b[0m\u001b[0mexpand_dims\u001b[0m\u001b[0;34m(\u001b[0m\u001b[0mclassid_volume\u001b[0m\u001b[0;34m,\u001b[0m \u001b[0maxis\u001b[0m\u001b[0;34m=\u001b[0m\u001b[0;36m0\u001b[0m\u001b[0;34m)\u001b[0m\u001b[0;34m\u001b[0m\u001b[0m\n\u001b[1;32m     13\u001b[0m         \u001b[0mclassid_volume\u001b[0m \u001b[0;34m=\u001b[0m \u001b[0mnp\u001b[0m\u001b[0;34m.\u001b[0m\u001b[0mexpand_dims\u001b[0m\u001b[0;34m(\u001b[0m\u001b[0mclassid_volume\u001b[0m\u001b[0;34m,\u001b[0m \u001b[0maxis\u001b[0m\u001b[0;34m=\u001b[0m\u001b[0;36m0\u001b[0m\u001b[0;34m)\u001b[0m\u001b[0;34m\u001b[0m\u001b[0m\n",
      "\u001b[0;32m<ipython-input-3-12f6167abe2e>\u001b[0m in \u001b[0;36mcolorvol2classidvol\u001b[0;34m(color_volume)\u001b[0m\n\u001b[1;32m     20\u001b[0m     \u001b[0;32mfor\u001b[0m \u001b[0midx\u001b[0m\u001b[0;34m,\u001b[0m \u001b[0mcolor_voxel\u001b[0m \u001b[0;32min\u001b[0m \u001b[0menumerate\u001b[0m\u001b[0;34m(\u001b[0m\u001b[0mcolor_volume\u001b[0m\u001b[0;34m)\u001b[0m\u001b[0;34m:\u001b[0m\u001b[0;34m\u001b[0m\u001b[0m\n\u001b[1;32m     21\u001b[0m         \u001b[0;32mif\u001b[0m\u001b[0;34m(\u001b[0m\u001b[0;32mnot\u001b[0m \u001b[0mnp\u001b[0m\u001b[0;34m.\u001b[0m\u001b[0marray_equal\u001b[0m\u001b[0;34m(\u001b[0m\u001b[0mcolor_voxel\u001b[0m\u001b[0;34m,\u001b[0m \u001b[0;34m[\u001b[0m\u001b[0;36m0\u001b[0m\u001b[0;34m,\u001b[0m\u001b[0;36m0\u001b[0m\u001b[0;34m,\u001b[0m\u001b[0;36m0\u001b[0m\u001b[0;34m]\u001b[0m\u001b[0;34m)\u001b[0m\u001b[0;34m)\u001b[0m\u001b[0;34m:\u001b[0m\u001b[0;34m\u001b[0m\u001b[0m\n\u001b[0;32m---> 22\u001b[0;31m             \u001b[0mclass_id\u001b[0m\u001b[0;34m,\u001b[0m \u001b[0mcalss_name\u001b[0m \u001b[0;34m=\u001b[0m \u001b[0mrgb2nyudv2\u001b[0m\u001b[0;34m(\u001b[0m\u001b[0mcolor_voxel\u001b[0m\u001b[0;34m*\u001b[0m\u001b[0;36m255\u001b[0m\u001b[0;34m)\u001b[0m\u001b[0;34m\u001b[0m\u001b[0m\n\u001b[0m\u001b[1;32m     23\u001b[0m             \u001b[0mclassid_volume\u001b[0m\u001b[0;34m[\u001b[0m\u001b[0midx\u001b[0m\u001b[0;34m]\u001b[0m \u001b[0;34m=\u001b[0m \u001b[0mclass_id\u001b[0m\u001b[0;34m\u001b[0m\u001b[0m\n\u001b[1;32m     24\u001b[0m     \u001b[0;31m#         print(class_id,calss_name)\u001b[0m\u001b[0;34m\u001b[0m\u001b[0;34m\u001b[0m\u001b[0m\n",
      "\u001b[0;32m<ipython-input-2-4b721ca1a40b>\u001b[0m in \u001b[0;36mrgb2nyudv2\u001b[0;34m(rgb)\u001b[0m\n\u001b[1;32m     26\u001b[0m     \u001b[0mcolor_dist\u001b[0m \u001b[0;34m=\u001b[0m \u001b[0;34m[\u001b[0m\u001b[0;34m]\u001b[0m\u001b[0;34m\u001b[0m\u001b[0m\n\u001b[1;32m     27\u001b[0m     \u001b[0;32mfor\u001b[0m \u001b[0mclass_name\u001b[0m\u001b[0;34m,\u001b[0m \u001b[0mcode\u001b[0m \u001b[0;32min\u001b[0m \u001b[0mnyudv2_color_codes\u001b[0m\u001b[0;34m.\u001b[0m\u001b[0mitems\u001b[0m\u001b[0;34m(\u001b[0m\u001b[0;34m)\u001b[0m\u001b[0;34m:\u001b[0m\u001b[0;34m\u001b[0m\u001b[0m\n\u001b[0;32m---> 28\u001b[0;31m         \u001b[0mcolor_dist\u001b[0m\u001b[0;34m.\u001b[0m\u001b[0mappend\u001b[0m\u001b[0;34m(\u001b[0m\u001b[0mnp\u001b[0m\u001b[0;34m.\u001b[0m\u001b[0mlinalg\u001b[0m\u001b[0;34m.\u001b[0m\u001b[0mnorm\u001b[0m\u001b[0;34m(\u001b[0m\u001b[0mnp\u001b[0m\u001b[0;34m.\u001b[0m\u001b[0masarray\u001b[0m\u001b[0;34m(\u001b[0m\u001b[0mcode\u001b[0m\u001b[0;34m)\u001b[0m\u001b[0;34m-\u001b[0m\u001b[0mrgb\u001b[0m\u001b[0;34m)\u001b[0m\u001b[0;34m)\u001b[0m\u001b[0;34m\u001b[0m\u001b[0m\n\u001b[0m\u001b[1;32m     29\u001b[0m \u001b[0;34m\u001b[0m\u001b[0m\n\u001b[1;32m     30\u001b[0m     \u001b[0mclass_id\u001b[0m \u001b[0;34m=\u001b[0m \u001b[0mnp\u001b[0m\u001b[0;34m.\u001b[0m\u001b[0margmin\u001b[0m\u001b[0;34m(\u001b[0m\u001b[0mcolor_dist\u001b[0m\u001b[0;34m)\u001b[0m\u001b[0;34m\u001b[0m\u001b[0m\n",
      "\u001b[0;32m~/anaconda3/lib/python3.6/site-packages/numpy/linalg/linalg.py\u001b[0m in \u001b[0;36mnorm\u001b[0;34m(x, ord, axis, keepdims)\u001b[0m\n\u001b[1;32m   2254\u001b[0m                 \u001b[0msqnorm\u001b[0m \u001b[0;34m=\u001b[0m \u001b[0mdot\u001b[0m\u001b[0;34m(\u001b[0m\u001b[0mx\u001b[0m\u001b[0;34m.\u001b[0m\u001b[0mreal\u001b[0m\u001b[0;34m,\u001b[0m \u001b[0mx\u001b[0m\u001b[0;34m.\u001b[0m\u001b[0mreal\u001b[0m\u001b[0;34m)\u001b[0m \u001b[0;34m+\u001b[0m \u001b[0mdot\u001b[0m\u001b[0;34m(\u001b[0m\u001b[0mx\u001b[0m\u001b[0;34m.\u001b[0m\u001b[0mimag\u001b[0m\u001b[0;34m,\u001b[0m \u001b[0mx\u001b[0m\u001b[0;34m.\u001b[0m\u001b[0mimag\u001b[0m\u001b[0;34m)\u001b[0m\u001b[0;34m\u001b[0m\u001b[0m\n\u001b[1;32m   2255\u001b[0m             \u001b[0;32melse\u001b[0m\u001b[0;34m:\u001b[0m\u001b[0;34m\u001b[0m\u001b[0m\n\u001b[0;32m-> 2256\u001b[0;31m                 \u001b[0msqnorm\u001b[0m \u001b[0;34m=\u001b[0m \u001b[0mdot\u001b[0m\u001b[0;34m(\u001b[0m\u001b[0mx\u001b[0m\u001b[0;34m,\u001b[0m \u001b[0mx\u001b[0m\u001b[0;34m)\u001b[0m\u001b[0;34m\u001b[0m\u001b[0m\n\u001b[0m\u001b[1;32m   2257\u001b[0m             \u001b[0mret\u001b[0m \u001b[0;34m=\u001b[0m \u001b[0msqrt\u001b[0m\u001b[0;34m(\u001b[0m\u001b[0msqnorm\u001b[0m\u001b[0;34m)\u001b[0m\u001b[0;34m\u001b[0m\u001b[0m\n\u001b[1;32m   2258\u001b[0m             \u001b[0;32mif\u001b[0m \u001b[0mkeepdims\u001b[0m\u001b[0;34m:\u001b[0m\u001b[0;34m\u001b[0m\u001b[0m\n",
      "\u001b[0;31mKeyboardInterrupt\u001b[0m: "
     ]
    }
   ],
   "source": [
    "\n",
    "optimizer = optim.Adam(vol_vae.parameters(), lr=0.0001)\n",
    "\n",
    "epoches = 100\n",
    "\n",
    "for epoch in range(epoches):\n",
    "    for idx in range(20):\n",
    "        incomp_pcd = read_point_cloud(\"/home/dongwonshin/Desktop/subvolume_dataset_making/mesh_results2/%06d_incomplete.ply\" % idx)\n",
    "        voxel_volume, color_volume = pcd2voxel(incomp_pcd)\n",
    "        classid_volume = colorvol2classidvol(color_volume)\n",
    "        classid_volume = np.expand_dims(classid_volume, axis=0)\n",
    "        classid_volume = np.expand_dims(classid_volume, axis=0)\n",
    "        classid_volume = torch.from_numpy(classid_volume).float()\n",
    "\n",
    "        output, kl_loss = vol_vae.forward(classid_volume)\n",
    "\n",
    "        comp_pcd = read_point_cloud(\"/home/dongwonshin/Desktop/subvolume_dataset_making/mesh_results2/%06d_complete.ply\" % idx)\n",
    "        _, target_volume = pcd2voxel(comp_pcd)\n",
    "        target_volume = colorvol2classidvol(target_volume)\n",
    "        target_volume = np.expand_dims(target_volume, axis=0)\n",
    "        target_volume = torch.from_numpy(target_volume).long()\n",
    "\n",
    "        recon_loss_func = torch.nn.CrossEntropyLoss()\n",
    "        recon_loss = recon_loss_func(output,target_volume)\n",
    "        \n",
    "        loss = recon_loss + kl_loss\n",
    "        \n",
    "        loss.backward()\n",
    "        optimizer.step()\n",
    "\n",
    "        l = loss.data[0]\n",
    "    print(l)"
   ]
  },
  {
   "cell_type": "code",
   "execution_count": null,
   "metadata": {},
   "outputs": [],
   "source": []
  }
 ],
 "metadata": {
  "kernelspec": {
   "display_name": "Python [conda root]",
   "language": "python",
   "name": "conda-root-py"
  },
  "language_info": {
   "codemirror_mode": {
    "name": "ipython",
    "version": 3
   },
   "file_extension": ".py",
   "mimetype": "text/x-python",
   "name": "python",
   "nbconvert_exporter": "python",
   "pygments_lexer": "ipython3",
   "version": "3.6.4"
  }
 },
 "nbformat": 4,
 "nbformat_minor": 2
}
