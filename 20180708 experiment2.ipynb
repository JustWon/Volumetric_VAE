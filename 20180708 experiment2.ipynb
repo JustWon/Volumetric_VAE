{
 "cells": [
  {
   "cell_type": "markdown",
   "metadata": {},
   "source": [
    "# Volumetric VAE with the class weight"
   ]
  },
  {
   "cell_type": "code",
   "execution_count": 1,
   "metadata": {},
   "outputs": [],
   "source": [
    "from utils import *\n",
    "\n",
    "import os\n",
    "import datetime\n",
    "\n",
    "%matplotlib inline\n",
    "import numpy as np\n",
    "import matplotlib.pyplot as plt\n",
    "from mpl_toolkits.mplot3d import Axes3D\n",
    "\n",
    "import torch\n",
    "from torch.autograd import Variable\n",
    "import torch.nn.functional as F\n",
    "import torch.optim as optim\n",
    "\n",
    "import sys\n",
    "sys.path.append(\"/home/dongwonshin/Desktop/Open3D/build/lib\")\n",
    "from py3d import *\n",
    "\n",
    "from VolumetricVAE import *"
   ]
  },
  {
   "cell_type": "markdown",
   "metadata": {},
   "source": [
    "# Volumetric VAE Model training"
   ]
  },
  {
   "cell_type": "code",
   "execution_count": 4,
   "metadata": {},
   "outputs": [],
   "source": [
    "vol_vae = VolumetricVAE(_kernel_size=3, _stride=1)\n",
    "vol_vae = torch.nn.DataParallel(vol_vae, device_ids = range(torch.cuda.device_count()))\n",
    "vol_vae.cuda()\n",
    "\n",
    "optimizer = optim.Adam(vol_vae.parameters(), lr=0.0001)\n",
    "\n",
    "class_weight = torch.Tensor(np.array(\n",
    "    [0.025192871093750013,\n",
    "     0.99568359375,\n",
    "     0.9951199340820313,\n",
    "     0.9965753173828125,\n",
    "     0.998511962890625,\n",
    "     0.9998382568359375,\n",
    "     0.9990286254882812,\n",
    "     0.9993521118164063,\n",
    "     0.9994937133789062,\n",
    "     0.9998776245117188,\n",
    "     0.9997113037109375,\n",
    "     1.0,\n",
    "     0.9998117065429688,\n",
    "     0.9989590454101562,\n",
    "     0.9985369873046875,\n",
    "     0.9993685913085938,\n",
    "     1.0,\n",
    "     1.0,\n",
    "     0.9990896606445312,\n",
    "     0.999835205078125,\n",
    "     0.9960134887695312]\n",
    ")).cuda()\n",
    "\n",
    "recon_loss_func = torch.nn.CrossEntropyLoss(weight=class_weight)"
   ]
  },
  {
   "cell_type": "code",
   "execution_count": 5,
   "metadata": {},
   "outputs": [
    {
     "name": "stderr",
     "output_type": "stream",
     "text": [
      "/home/dongwonshin/anaconda3/lib/python3.6/site-packages/torch/nn/functional.py:1749: UserWarning: Default upsampling behavior when mode=trilinear is changed to align_corners=False since 0.4.0. Please specify align_corners=True if the old behavior is desired. See the documentation of nn.Upsample for details.\n",
      "  \"See the documentation of nn.Upsample for details.\".format(mode))\n",
      "/home/dongwonshin/anaconda3/lib/python3.6/site-packages/ipykernel/__main__.py:33: UserWarning: invalid index of a 0-dim tensor. This will be an error in PyTorch 0.5. Use tensor.item() to convert a 0-dim tensor to a Python number\n"
     ]
    },
    {
     "name": "stdout",
     "output_type": "stream",
     "text": [
      "tensor(2.4152, device='cuda:0')\n",
      "tensor(2.3829, device='cuda:0')\n",
      "tensor(2.3506, device='cuda:0')\n",
      "tensor(2.3032, device='cuda:0')\n",
      "tensor(2.2259, device='cuda:0')\n",
      "tensor(2.1261, device='cuda:0')\n",
      "tensor(1.9607, device='cuda:0')\n",
      "tensor(1.9238, device='cuda:0')\n",
      "tensor(1.8548, device='cuda:0')\n",
      "tensor(1.8638, device='cuda:0')\n",
      "tensor(1.7605, device='cuda:0')\n",
      "tensor(1.7324, device='cuda:0')\n",
      "tensor(1.7639, device='cuda:0')\n",
      "tensor(1.7222, device='cuda:0')\n",
      "tensor(1.7059, device='cuda:0')\n",
      "tensor(1.6607, device='cuda:0')\n",
      "tensor(1.7274, device='cuda:0')\n",
      "tensor(1.6378, device='cuda:0')\n",
      "tensor(1.6607, device='cuda:0')\n",
      "tensor(1.6313, device='cuda:0')\n",
      "tensor(1.5891, device='cuda:0')\n",
      "tensor(1.6082, device='cuda:0')\n",
      "tensor(1.6551, device='cuda:0')\n",
      "tensor(1.6891, device='cuda:0')\n",
      "tensor(1.5942, device='cuda:0')\n",
      "tensor(1.6788, device='cuda:0')\n",
      "tensor(1.6582, device='cuda:0')\n",
      "tensor(1.6571, device='cuda:0')\n",
      "tensor(1.6422, device='cuda:0')\n",
      "tensor(1.5868, device='cuda:0')\n",
      "tensor(1.6086, device='cuda:0')\n",
      "tensor(1.6868, device='cuda:0')\n",
      "tensor(1.5811, device='cuda:0')\n",
      "tensor(1.5832, device='cuda:0')\n",
      "tensor(1.7195, device='cuda:0')\n",
      "tensor(1.5816, device='cuda:0')\n",
      "tensor(1.6024, device='cuda:0')\n",
      "tensor(1.6756, device='cuda:0')\n",
      "tensor(1.5655, device='cuda:0')\n",
      "tensor(1.8508, device='cuda:0')\n",
      "tensor(1.5274, device='cuda:0')\n",
      "tensor(1.6298, device='cuda:0')\n",
      "tensor(1.6815, device='cuda:0')\n",
      "tensor(1.6357, device='cuda:0')\n",
      "tensor(1.6872, device='cuda:0')\n",
      "tensor(1.7047, device='cuda:0')\n",
      "tensor(1.5700, device='cuda:0')\n",
      "tensor(1.6108, device='cuda:0')\n",
      "tensor(1.6147, device='cuda:0')\n",
      "tensor(1.6366, device='cuda:0')\n",
      "tensor(1.7126, device='cuda:0')\n",
      "tensor(1.6631, device='cuda:0')\n",
      "tensor(1.6314, device='cuda:0')\n",
      "tensor(1.5537, device='cuda:0')\n",
      "tensor(1.6053, device='cuda:0')\n",
      "tensor(1.7165, device='cuda:0')\n",
      "tensor(1.5726, device='cuda:0')\n",
      "tensor(1.6421, device='cuda:0')\n",
      "tensor(1.5515, device='cuda:0')\n",
      "tensor(1.5895, device='cuda:0')\n",
      "tensor(1.6081, device='cuda:0')\n",
      "tensor(1.6695, device='cuda:0')\n",
      "tensor(1.6126, device='cuda:0')\n",
      "tensor(1.6372, device='cuda:0')\n",
      "tensor(1.6259, device='cuda:0')\n",
      "tensor(1.6309, device='cuda:0')\n",
      "tensor(1.5861, device='cuda:0')\n",
      "tensor(1.5826, device='cuda:0')\n",
      "tensor(1.5612, device='cuda:0')\n",
      "tensor(1.6382, device='cuda:0')\n",
      "tensor(1.5897, device='cuda:0')\n",
      "tensor(1.5846, device='cuda:0')\n",
      "tensor(1.5398, device='cuda:0')\n",
      "tensor(1.6319, device='cuda:0')\n",
      "tensor(1.5926, device='cuda:0')\n",
      "tensor(1.5686, device='cuda:0')\n",
      "tensor(1.6614, device='cuda:0')\n",
      "tensor(1.6090, device='cuda:0')\n",
      "tensor(1.5819, device='cuda:0')\n",
      "tensor(1.5473, device='cuda:0')\n",
      "tensor(1.6343, device='cuda:0')\n",
      "tensor(1.5829, device='cuda:0')\n",
      "tensor(1.6093, device='cuda:0')\n",
      "tensor(1.6371, device='cuda:0')\n",
      "tensor(1.5847, device='cuda:0')\n",
      "tensor(1.5795, device='cuda:0')\n",
      "tensor(1.5294, device='cuda:0')\n",
      "tensor(1.5861, device='cuda:0')\n",
      "tensor(1.5909, device='cuda:0')\n",
      "tensor(1.5525, device='cuda:0')\n",
      "tensor(1.5987, device='cuda:0')\n",
      "tensor(1.6752, device='cuda:0')\n",
      "tensor(1.6051, device='cuda:0')\n",
      "tensor(1.6915, device='cuda:0')\n",
      "tensor(1.6596, device='cuda:0')\n",
      "tensor(1.6044, device='cuda:0')\n",
      "tensor(1.5710, device='cuda:0')\n",
      "tensor(1.6106, device='cuda:0')\n",
      "tensor(1.5830, device='cuda:0')\n",
      "tensor(1.6039, device='cuda:0')\n",
      "tensor(1.5229, device='cuda:0')\n",
      "tensor(1.5068, device='cuda:0')\n",
      "tensor(1.6647, device='cuda:0')\n",
      "tensor(1.6795, device='cuda:0')\n",
      "tensor(1.6020, device='cuda:0')\n",
      "tensor(1.5931, device='cuda:0')\n",
      "tensor(1.5685, device='cuda:0')\n",
      "tensor(1.5342, device='cuda:0')\n",
      "tensor(1.6231, device='cuda:0')\n",
      "tensor(1.5775, device='cuda:0')\n",
      "tensor(1.5819, device='cuda:0')\n",
      "tensor(1.5672, device='cuda:0')\n",
      "tensor(1.5952, device='cuda:0')\n",
      "tensor(1.5615, device='cuda:0')\n",
      "tensor(1.6316, device='cuda:0')\n",
      "tensor(1.5709, device='cuda:0')\n",
      "tensor(1.5610, device='cuda:0')\n",
      "tensor(1.6318, device='cuda:0')\n",
      "tensor(1.5726, device='cuda:0')\n",
      "tensor(1.5824, device='cuda:0')\n",
      "tensor(1.5835, device='cuda:0')\n",
      "tensor(1.5861, device='cuda:0')\n",
      "tensor(1.6340, device='cuda:0')\n",
      "tensor(1.6140, device='cuda:0')\n",
      "tensor(1.5321, device='cuda:0')\n",
      "tensor(1.7039, device='cuda:0')\n",
      "tensor(1.6929, device='cuda:0')\n",
      "tensor(1.5979, device='cuda:0')\n",
      "tensor(1.6481, device='cuda:0')\n",
      "tensor(1.5347, device='cuda:0')\n",
      "tensor(1.5992, device='cuda:0')\n",
      "tensor(1.6270, device='cuda:0')\n",
      "tensor(1.5936, device='cuda:0')\n",
      "tensor(1.5895, device='cuda:0')\n",
      "tensor(1.6187, device='cuda:0')\n",
      "tensor(1.5434, device='cuda:0')\n",
      "tensor(1.5351, device='cuda:0')\n",
      "tensor(1.6122, device='cuda:0')\n",
      "tensor(1.5726, device='cuda:0')\n",
      "tensor(1.6100, device='cuda:0')\n",
      "tensor(1.5783, device='cuda:0')\n",
      "tensor(1.6039, device='cuda:0')\n",
      "tensor(1.5600, device='cuda:0')\n",
      "tensor(1.6939, device='cuda:0')\n",
      "tensor(1.5661, device='cuda:0')\n",
      "tensor(1.6441, device='cuda:0')\n",
      "tensor(1.6010, device='cuda:0')\n",
      "tensor(1.5922, device='cuda:0')\n",
      "tensor(1.5470, device='cuda:0')\n",
      "tensor(1.5838, device='cuda:0')\n",
      "tensor(1.5953, device='cuda:0')\n",
      "tensor(1.6942, device='cuda:0')\n",
      "tensor(1.5670, device='cuda:0')\n",
      "tensor(1.6050, device='cuda:0')\n",
      "tensor(1.5907, device='cuda:0')\n",
      "tensor(1.6042, device='cuda:0')\n",
      "tensor(1.6479, device='cuda:0')\n",
      "tensor(1.5580, device='cuda:0')\n",
      "tensor(1.6175, device='cuda:0')\n",
      "tensor(1.6235, device='cuda:0')\n",
      "tensor(1.6726, device='cuda:0')\n",
      "tensor(1.6526, device='cuda:0')\n",
      "tensor(1.5318, device='cuda:0')\n",
      "tensor(1.5643, device='cuda:0')\n",
      "tensor(1.6128, device='cuda:0')\n",
      "tensor(1.6334, device='cuda:0')\n",
      "tensor(1.5657, device='cuda:0')\n",
      "tensor(1.5824, device='cuda:0')\n",
      "tensor(1.5563, device='cuda:0')\n",
      "tensor(1.6305, device='cuda:0')\n",
      "tensor(1.6506, device='cuda:0')\n",
      "tensor(1.5621, device='cuda:0')\n",
      "tensor(1.6747, device='cuda:0')\n",
      "tensor(1.6080, device='cuda:0')\n",
      "tensor(1.5028, device='cuda:0')\n",
      "tensor(1.6194, device='cuda:0')\n",
      "tensor(1.6495, device='cuda:0')\n",
      "tensor(1.5648, device='cuda:0')\n",
      "tensor(1.5430, device='cuda:0')\n",
      "tensor(1.8848, device='cuda:0')\n",
      "tensor(1.6393, device='cuda:0')\n",
      "tensor(1.6363, device='cuda:0')\n",
      "tensor(1.5950, device='cuda:0')\n",
      "tensor(1.5519, device='cuda:0')\n",
      "tensor(1.5693, device='cuda:0')\n",
      "tensor(1.5845, device='cuda:0')\n",
      "tensor(1.5694, device='cuda:0')\n",
      "tensor(1.5650, device='cuda:0')\n",
      "tensor(1.6065, device='cuda:0')\n",
      "tensor(1.6605, device='cuda:0')\n",
      "tensor(1.5945, device='cuda:0')\n",
      "tensor(1.5894, device='cuda:0')\n",
      "tensor(1.6224, device='cuda:0')\n",
      "tensor(1.5876, device='cuda:0')\n",
      "tensor(1.5593, device='cuda:0')\n",
      "tensor(1.6896, device='cuda:0')\n",
      "tensor(1.5822, device='cuda:0')\n",
      "tensor(1.5630, device='cuda:0')\n",
      "tensor(1.5408, device='cuda:0')\n",
      "tensor(1.6210, device='cuda:0')\n",
      "tensor(1.5876, device='cuda:0')\n",
      "tensor(1.5682, device='cuda:0')\n",
      "tensor(1.5903, device='cuda:0')\n",
      "tensor(1.5945, device='cuda:0')\n",
      "tensor(1.6158, device='cuda:0')\n",
      "tensor(1.6214, device='cuda:0')\n",
      "tensor(1.5697, device='cuda:0')\n",
      "tensor(1.5984, device='cuda:0')\n",
      "tensor(1.6381, device='cuda:0')\n",
      "tensor(1.6334, device='cuda:0')\n",
      "tensor(1.5798, device='cuda:0')\n",
      "tensor(1.7158, device='cuda:0')\n",
      "tensor(1.6085, device='cuda:0')\n",
      "tensor(1.5805, device='cuda:0')\n",
      "tensor(1.5916, device='cuda:0')\n",
      "tensor(1.6196, device='cuda:0')\n",
      "tensor(1.5198, device='cuda:0')\n",
      "tensor(1.6043, device='cuda:0')\n",
      "tensor(1.5893, device='cuda:0')\n",
      "tensor(1.5632, device='cuda:0')\n",
      "tensor(1.5740, device='cuda:0')\n",
      "tensor(1.5922, device='cuda:0')\n",
      "tensor(1.5388, device='cuda:0')\n",
      "tensor(1.5498, device='cuda:0')\n",
      "tensor(1.5339, device='cuda:0')\n",
      "tensor(1.5727, device='cuda:0')\n",
      "tensor(1.5261, device='cuda:0')\n",
      "tensor(1.6051, device='cuda:0')\n",
      "tensor(1.5751, device='cuda:0')\n",
      "tensor(1.6042, device='cuda:0')\n",
      "tensor(1.5091, device='cuda:0')\n",
      "tensor(1.4952, device='cuda:0')\n",
      "tensor(1.5571, device='cuda:0')\n",
      "tensor(1.6629, device='cuda:0')\n",
      "tensor(1.5860, device='cuda:0')\n",
      "tensor(1.5713, device='cuda:0')\n",
      "tensor(1.6226, device='cuda:0')\n",
      "tensor(1.6069, device='cuda:0')\n",
      "tensor(1.5878, device='cuda:0')\n",
      "tensor(1.5474, device='cuda:0')\n",
      "tensor(1.5825, device='cuda:0')\n",
      "tensor(1.5556, device='cuda:0')\n",
      "tensor(1.5554, device='cuda:0')\n",
      "tensor(1.5965, device='cuda:0')\n",
      "tensor(1.5834, device='cuda:0')\n",
      "tensor(1.6017, device='cuda:0')\n",
      "tensor(1.5568, device='cuda:0')\n",
      "tensor(1.5597, device='cuda:0')\n",
      "tensor(1.5260, device='cuda:0')\n",
      "tensor(1.6308, device='cuda:0')\n",
      "tensor(1.5251, device='cuda:0')\n",
      "tensor(1.5541, device='cuda:0')\n",
      "tensor(1.6530, device='cuda:0')\n",
      "tensor(1.5336, device='cuda:0')\n",
      "tensor(1.6583, device='cuda:0')\n",
      "tensor(1.6981, device='cuda:0')\n",
      "tensor(1.6287, device='cuda:0')\n",
      "tensor(1.5545, device='cuda:0')\n",
      "tensor(1.5736, device='cuda:0')\n",
      "tensor(1.5327, device='cuda:0')\n",
      "tensor(1.5279, device='cuda:0')\n",
      "tensor(1.5710, device='cuda:0')\n",
      "tensor(1.5786, device='cuda:0')\n",
      "tensor(1.6170, device='cuda:0')\n",
      "tensor(1.5897, device='cuda:0')\n",
      "tensor(1.5445, device='cuda:0')\n",
      "tensor(1.6622, device='cuda:0')\n",
      "tensor(1.5982, device='cuda:0')\n",
      "tensor(1.5802, device='cuda:0')\n",
      "tensor(1.6214, device='cuda:0')\n",
      "tensor(1.5505, device='cuda:0')\n",
      "tensor(1.5549, device='cuda:0')\n",
      "tensor(1.5647, device='cuda:0')\n",
      "tensor(1.6163, device='cuda:0')\n",
      "tensor(1.5781, device='cuda:0')\n",
      "tensor(1.5849, device='cuda:0')\n",
      "tensor(1.5828, device='cuda:0')\n",
      "tensor(1.5976, device='cuda:0')\n",
      "tensor(1.5791, device='cuda:0')\n",
      "tensor(1.6208, device='cuda:0')\n",
      "tensor(1.5624, device='cuda:0')\n",
      "tensor(1.5670, device='cuda:0')\n",
      "tensor(1.6149, device='cuda:0')\n",
      "tensor(1.5686, device='cuda:0')\n",
      "tensor(1.6296, device='cuda:0')\n",
      "tensor(1.5679, device='cuda:0')\n",
      "tensor(1.5756, device='cuda:0')\n",
      "tensor(1.6210, device='cuda:0')\n",
      "tensor(1.5471, device='cuda:0')\n",
      "tensor(1.5822, device='cuda:0')\n",
      "tensor(1.6018, device='cuda:0')\n",
      "tensor(1.5191, device='cuda:0')\n",
      "tensor(1.5461, device='cuda:0')\n",
      "tensor(1.5671, device='cuda:0')\n",
      "tensor(1.6119, device='cuda:0')\n",
      "tensor(1.6284, device='cuda:0')\n",
      "tensor(1.5279, device='cuda:0')\n",
      "tensor(1.6505, device='cuda:0')\n",
      "tensor(1.6046, device='cuda:0')\n",
      "tensor(1.6095, device='cuda:0')\n"
     ]
    }
   ],
   "source": [
    "epoches = 300\n",
    "data_range = 100\n",
    "\n",
    "for epoch in range(epoches):\n",
    "    for idx in range(data_range):\n",
    "        comp_pcd = read_point_cloud(\"/home/dongwonshin/Desktop/subvolume_dataset_making/mesh_results2/%06d_complete.ply\" % idx)\n",
    "        voxel_volume, color_volume = pcd2voxel(comp_pcd)\n",
    "        \n",
    "        input_volume = colorvol2classidvol(color_volume)\n",
    "        input_volume = np.expand_dims(input_volume, axis=0) # fake batch axis\n",
    "        input_volume = torch.from_numpy(input_volume).float() \n",
    "        input_volume = Variable(input_volume).cuda()\n",
    "\n",
    "        optimizer.zero_grad()\n",
    "        \n",
    "        output_volume, z_mean, z_sigma = vol_vae.forward(input_volume)\n",
    "        \n",
    "        target_volume = colorvol2classidvol(color_volume, False)\n",
    "        target_volume = np.expand_dims(target_volume, axis=0) # fake batch axis\n",
    "        target_volume = torch.from_numpy(target_volume).long() \n",
    "        target_volume = Variable(target_volume).cuda()\n",
    "        \n",
    "        mean_sq = z_mean * z_mean\n",
    "        stddev_sq = z_sigma * z_sigma\n",
    "        kl_loss = 0.5 * torch.sum(mean_sq + stddev_sq - torch.log(stddev_sq) - 1)\n",
    "        recon_loss = recon_loss_func(output_volume, target_volume)\n",
    "        \n",
    "        loss = recon_loss + kl_loss\n",
    "        \n",
    "        loss.backward()\n",
    "        optimizer.step()\n",
    "\n",
    "        l = loss.data[0]\n",
    "    \n",
    "    print(l)\n",
    "\n",
    "    # save the intermediate result\n",
    "    argmaxed = torch.argmax(output_volume,1)\n",
    "    output_color_volume = classidvol2colorvol(argmaxed.cpu().numpy())\n",
    "    viz_vvae_output(output_color_volume,'./result_vvae_with_classweight',show=False,save=True)\n",
    "    "
   ]
  },
  {
   "cell_type": "code",
   "execution_count": 32,
   "metadata": {},
   "outputs": [],
   "source": [
    "torch.save(vol_vae, 'vol_vae_small_dataset.pt')"
   ]
  },
  {
   "cell_type": "code",
   "execution_count": 33,
   "metadata": {},
   "outputs": [],
   "source": [
    "model = torch.load('vol_vae_small_dataset.pt')"
   ]
  },
  {
   "cell_type": "code",
   "execution_count": 34,
   "metadata": {},
   "outputs": [
    {
     "data": {
      "text/plain": [
       "DataParallel(\n",
       "  (module): VolumetricVAE(\n",
       "    (encoder): Encoder(\n",
       "      (conv3d_1): Conv3d(21, 128, kernel_size=(3, 3, 3), stride=(1, 1, 1), padding=(1, 1, 1))\n",
       "      (pool3d_1): MaxPool3d(kernel_size=2, stride=2, padding=0, dilation=1, ceil_mode=False)\n",
       "      (conv3d_2): Conv3d(128, 64, kernel_size=(3, 3, 3), stride=(1, 1, 1), padding=(1, 1, 1))\n",
       "      (pool3d_2): MaxPool3d(kernel_size=2, stride=2, padding=0, dilation=1, ceil_mode=False)\n",
       "      (conv3d_3): Conv3d(64, 32, kernel_size=(3, 3, 3), stride=(1, 1, 1), padding=(1, 1, 1))\n",
       "      (pool3d_3): MaxPool3d(kernel_size=2, stride=2, padding=0, dilation=1, ceil_mode=False)\n",
       "    )\n",
       "    (decoder): Decoder(\n",
       "      (conv3d_1): Conv3d(32, 64, kernel_size=(3, 3, 3), stride=(1, 1, 1), padding=(1, 1, 1))\n",
       "      (upsample_1): Upsample(scale_factor=2, mode=trilinear)\n",
       "      (conv3d_2): Conv3d(64, 128, kernel_size=(3, 3, 3), stride=(1, 1, 1), padding=(1, 1, 1))\n",
       "      (upsample_2): Upsample(scale_factor=2, mode=trilinear)\n",
       "      (conv3d_3): Conv3d(128, 21, kernel_size=(3, 3, 3), stride=(1, 1, 1), padding=(1, 1, 1))\n",
       "      (upsample_3): Upsample(scale_factor=2, mode=trilinear)\n",
       "    )\n",
       "    (_enc_mu): Linear(in_features=2048, out_features=256, bias=True)\n",
       "    (_enc_log_sigma): Linear(in_features=2048, out_features=256, bias=True)\n",
       "    (_z): Linear(in_features=256, out_features=2048, bias=True)\n",
       "  )\n",
       ")"
      ]
     },
     "execution_count": 34,
     "metadata": {},
     "output_type": "execute_result"
    }
   ],
   "source": [
    "model"
   ]
  },
  {
   "cell_type": "code",
   "execution_count": 44,
   "metadata": {},
   "outputs": [
    {
     "name": "stderr",
     "output_type": "stream",
     "text": [
      "/home/dongwonshin/anaconda3/lib/python3.6/site-packages/torch/nn/functional.py:1749: UserWarning: Default upsampling behavior when mode=trilinear is changed to align_corners=False since 0.4.0. Please specify align_corners=True if the old behavior is desired. See the documentation of nn.Upsample for details.\n",
      "  \"See the documentation of nn.Upsample for details.\".format(mode))\n"
     ]
    },
    {
     "data": {
      "image/png": "[encoded data removed]",
      "text/plain": [
       "<matplotlib.figure.Figure at 0x7f5d0768dac8>"
      ]
     },
     "metadata": {},
     "output_type": "display_data"
    }
   ],
   "source": [
    "idx = 20\n",
    "comp_pcd = read_point_cloud(\"/home/dongwonshin/Desktop/subvolume_dataset_making/mesh_results2/%06d_complete.ply\" % idx)\n",
    "voxel_volume, color_volume = pcd2voxel(comp_pcd)\n",
    "\n",
    "input_volume = colorvol2classidvol(color_volume)\n",
    "input_volume = np.expand_dims(input_volume, axis=0) # fake batch axis\n",
    "input_volume = torch.from_numpy(input_volume).float() \n",
    "input_volume = Variable(input_volume).cuda()\n",
    "\n",
    "output_volume = model.forward(input_volume)\n",
    "\n",
    "argmaxed = torch.argmax(output_volume[0],1)\n",
    "output_color_volume = classidvol2colorvol(argmaxed.cpu().numpy())\n",
    "viz_vvae_output(output_color_volume,'./result_vvae_with_classweight',show=True,save=False)"
   ]
  },
  {
   "cell_type": "markdown",
   "metadata": {},
   "source": [
    "# class weight calculation"
   ]
  },
  {
   "cell_type": "code",
   "execution_count": 9,
   "metadata": {},
   "outputs": [],
   "source": [
    "class_count_array = []"
   ]
  },
  {
   "cell_type": "code",
   "execution_count": 10,
   "metadata": {},
   "outputs": [],
   "source": [
    "class_count_array.append([641010537,   3127005,   3557042,    501871,    244061,   1111810,    632902,\n",
    "    662104,    577106,    306848,    414835,     98997,    112252,    278896,\n",
    "    161712,     83703,     72063,     57584,    481734,    205316,   1661622])"
   ]
  },
  {
   "cell_type": "code",
   "execution_count": 12,
   "metadata": {},
   "outputs": [],
   "source": [
    "class_count_array.append([641015042,   3231357,   3712139,    638414,    329425,   1156217,    342847,\n",
    "    660821,    476805,    331603,    239301,    148460,    147563,    287478,\n",
    "    123720,     68871,    112249,    108068,    537011,    265446,   1427163])"
   ]
  },
  {
   "cell_type": "code",
   "execution_count": 13,
   "metadata": {},
   "outputs": [],
   "source": [
    "class_count_array.append([640843927,   3020689,   3560221,    531094,   578115,   1161070,    504929,\n",
    "    589628,    489529,    338042,    484875,    176051,    165879,    346662,\n",
    "    246601,     71095,     84052,     36200,    400185,    162121,   1569035])"
   ]
  },
  {
   "cell_type": "code",
   "execution_count": 14,
   "metadata": {},
   "outputs": [],
   "source": [
    "class_count_array.append([641384122,   3247276,   3152032,    655478,    289110,   1084961,    488832,\n",
    "    640733,    439471,    386958,    285192,    163884,    161130,    315588,\n",
    "    170840,     72971,     37978,     23574,    510443,    236091,   1613336])"
   ]
  },
  {
   "cell_type": "code",
   "execution_count": 15,
   "metadata": {},
   "outputs": [],
   "source": [
    "class_count_array.append([641212090,   3108148,   3277431,    629036,    266530,   1334283,    346489,\n",
    "    547983,    499836,    333100,    419179,    131834,    147040,    256511,\n",
    "    109769,     91724,    140593,    125575,    368896,    257674,   1756279])"
   ]
  },
  {
   "cell_type": "code",
   "execution_count": 16,
   "metadata": {},
   "outputs": [],
   "source": [
    "class_count_array.append([641213615,   3069689,   3455505,    515571,    341245,    944151,    419633,\n",
    "    510941,    576788,    353185,    326778,    114072,    166146,    193401,\n",
    "    196574,     78953,    142709,    139578,    483737,    321585,   1796144])"
   ]
  },
  {
   "cell_type": "code",
   "execution_count": 17,
   "metadata": {},
   "outputs": [],
   "source": [
    "class_count_array.append([641096657,   3121933,   3100722,    623113,    353947,   1084730,    453549,\n",
    "    594554,    373350,    327625,    369656,    125180,    163492,    293457,\n",
    "    243647,     83864,    133220,    108207,    645905,    293724,   1769468])"
   ]
  },
  {
   "cell_type": "code",
   "execution_count": 18,
   "metadata": {},
   "outputs": [],
   "source": [
    "class_count_array.append([653835248,    295751,   396826,     50110,     87646,     74088,     81337,\n",
    "     52219,     48673,     26546,     57005,     24073,      8752,     16762,\n",
    "     54143,       478,     19590,      6557,     34643,     11765,    177788])"
   ]
  },
  {
   "cell_type": "code",
   "execution_count": 19,
   "metadata": {},
   "outputs": [],
   "source": [
    "class_count_array.append([67615728,   295751,   396826,    50110,    87646,    74088,    81337,    52219,\n",
    "    48673,    26546,    57005,    24073,     8752,    16762,    54143,      478,\n",
    "    19590,     6557,    34643,    11765,   177788])"
   ]
  },
  {
   "cell_type": "code",
   "execution_count": 22,
   "metadata": {},
   "outputs": [],
   "source": [
    "class_count_array = np.array((class_count_array))"
   ]
  },
  {
   "cell_type": "code",
   "execution_count": 26,
   "metadata": {},
   "outputs": [],
   "source": [
    "class_count_array = np.sum(class_count_array,0)"
   ]
  },
  {
   "cell_type": "code",
   "execution_count": 28,
   "metadata": {},
   "outputs": [],
   "source": [
    "total_count = np.sum(class_count_array)"
   ]
  },
  {
   "cell_type": "code",
   "execution_count": 31,
   "metadata": {},
   "outputs": [
    {
     "data": {
      "text/plain": [
       "array([0.01935111, 0.99576101, 0.99536735, 0.99921032, 0.99951474,\n",
       "       0.9984892 , 0.99936901, 0.99918841, 0.99933543, 0.99954246,\n",
       "       0.99950041, 0.9998105 , 0.9997965 , 0.99962246, 0.99974376,\n",
       "       0.99989606, 0.99985654, 0.99988481, 0.99934164, 0.99966764,\n",
       "       0.99775064])"
      ]
     },
     "execution_count": 31,
     "metadata": {},
     "output_type": "execute_result"
    }
   ],
   "source": [
    "1-class_count_array/total_count"
   ]
  },
  {
   "cell_type": "code",
   "execution_count": null,
   "metadata": {},
   "outputs": [],
   "source": []
  }
 ],
 "metadata": {
  "kernelspec": {
   "display_name": "Python [conda root]",
   "language": "python",
   "name": "conda-root-py"
  },
  "language_info": {
   "codemirror_mode": {
    "name": "ipython",
    "version": 3
   },
   "file_extension": ".py",
   "mimetype": "text/x-python",
   "name": "python",
   "nbconvert_exporter": "python",
   "pygments_lexer": "ipython3",
   "version": "3.6.4"
  }
 },
 "nbformat": 4,
 "nbformat_minor": 2
}
